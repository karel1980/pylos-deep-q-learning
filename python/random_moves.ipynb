{
 "cells": [
  {
   "cell_type": "code",
   "execution_count": 3,
   "metadata": {},
   "outputs": [
    {
     "data": {
      "text/plain": [
       "{'current_player': 0, 'board': array([[0., 0.],\n",
       "        [0., 0.],\n",
       "        [0., 0.],\n",
       "        [0., 0.],\n",
       "        [0., 0.],\n",
       "        [0., 0.],\n",
       "        [0., 0.],\n",
       "        [0., 0.],\n",
       "        [0., 0.],\n",
       "        [0., 0.],\n",
       "        [0., 0.],\n",
       "        [0., 0.],\n",
       "        [0., 0.],\n",
       "        [0., 0.],\n",
       "        [0., 0.],\n",
       "        [0., 0.],\n",
       "        [0., 0.],\n",
       "        [0., 0.],\n",
       "        [0., 0.],\n",
       "        [0., 0.],\n",
       "        [0., 0.],\n",
       "        [0., 0.],\n",
       "        [0., 0.],\n",
       "        [0., 0.],\n",
       "        [0., 0.],\n",
       "        [0., 0.],\n",
       "        [0., 0.],\n",
       "        [0., 0.],\n",
       "        [0., 0.],\n",
       "        [0., 0.]])}"
      ]
     },
     "execution_count": 3,
     "metadata": {},
     "output_type": "execute_result"
    }
   ],
   "source": [
    "import gym\n",
    "import pylos_env\n",
    "import random\n",
    "\n",
    "env = gym.envs.make('Pylos-v0')\n",
    "\n",
    "env.reset()"
   ]
  },
  {
   "cell_type": "code",
   "execution_count": 6,
   "metadata": {},
   "outputs": [
    {
     "name": "stdout",
     "output_type": "stream",
     "text": [
      "0.../..../..../....#.../.../...#../..#.\n",
      "0.../..../..../....#.../.../...#../..#.\n",
      "0.../..../..../....#.../.../...#../..#.\n",
      "0.../..../..../....#.../.../...#../..#.\n",
      "0.../..../..../....#.../.../...#../..#.\n",
      "..../..../...0/....#.../.../...#../..#.\n",
      "..../...0/..../....#.../.../...#../..#.\n",
      ".0../..../..../....#.../.../...#../..#.\n",
      "..../..../.0../....#.../.../...#../..#.\n",
      ".0../..../..../....#.../.../...#../..#.\n",
      "..../..../...0/....#.../.../...#../..#.\n",
      "0.../..../..../....#.../.../...#../..#.\n",
      "0.../..../..../....#.../.../...#../..#.\n",
      "0.../..../..../....#.../.../...#../..#.\n",
      "0.../..../..../....#.../.../...#../..#.\n",
      "..../..../..../...0#.../.../...#../..#.\n",
      "..../...0/..../....#.../.../...#../..#.\n",
      "..../..../.0../....#.../.../...#../..#.\n",
      "0.../..../..../....#.../.../...#../..#.\n",
      "..../..../.0../....#.../.../...#../..#.\n"
     ]
    }
   ],
   "source": [
    "# Let's try a view random moves\n",
    "\n",
    "for i in range(20):\n",
    "    env.reset()\n",
    "    \n",
    "    # env.action_space.sample() has a low likelihood of being valid\n",
    "    # so we create moves like this:\n",
    "    move = (30, int(random.random() * 30), 30, 30)\n",
    "    state, reward, done, info = env.step(move)\n",
    "    print(env.pylos.render())"
   ]
  },
  {
   "cell_type": "code",
   "execution_count": null,
   "metadata": {},
   "outputs": [],
   "source": []
  }
 ],
 "metadata": {
  "kernelspec": {
   "display_name": "Python 3",
   "language": "python",
   "name": "python3"
  },
  "language_info": {
   "codemirror_mode": {
    "name": "ipython",
    "version": 3
   },
   "file_extension": ".py",
   "mimetype": "text/x-python",
   "name": "python",
   "nbconvert_exporter": "python",
   "pygments_lexer": "ipython3",
   "version": "3.6.5"
  }
 },
 "nbformat": 4,
 "nbformat_minor": 2
}
