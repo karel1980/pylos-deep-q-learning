{
 "cells": [
  {
   "cell_type": "code",
   "execution_count": 22,
   "metadata": {},
   "outputs": [
    {
     "data": {
      "text/plain": [
       "{'current_player': 0, 'board': array([[0., 0.],\n",
       "        [0., 0.],\n",
       "        [0., 0.],\n",
       "        [0., 0.],\n",
       "        [0., 0.],\n",
       "        [0., 0.],\n",
       "        [0., 0.],\n",
       "        [0., 0.],\n",
       "        [0., 0.],\n",
       "        [0., 0.],\n",
       "        [0., 0.],\n",
       "        [0., 0.],\n",
       "        [0., 0.],\n",
       "        [0., 0.],\n",
       "        [0., 0.],\n",
       "        [0., 0.],\n",
       "        [0., 0.],\n",
       "        [0., 0.],\n",
       "        [0., 0.],\n",
       "        [0., 0.],\n",
       "        [0., 0.],\n",
       "        [0., 0.],\n",
       "        [0., 0.],\n",
       "        [0., 0.],\n",
       "        [0., 0.],\n",
       "        [0., 0.],\n",
       "        [0., 0.],\n",
       "        [0., 0.],\n",
       "        [0., 0.],\n",
       "        [0., 0.]])}"
      ]
     },
     "execution_count": 22,
     "metadata": {},
     "output_type": "execute_result"
    }
   ],
   "source": [
    "import gym\n",
    "import pylos_env\n",
    "\n",
    "env = gym.envs.make('Pylos-v0')\n",
    "\n",
    "env.reset()"
   ]
  },
  {
   "cell_type": "code",
   "execution_count": 27,
   "metadata": {},
   "outputs": [
    {
     "name": "stdout",
     "output_type": "stream",
     "text": [
      "..../..../..../....#.../.../...#../..#.\n",
      "..../..../..../....#.../.../...#../..#.\n",
      "..../..../0.../....#.../.../...#../..#.\n",
      "..../..0./..../....#.../.../...#../..#.\n",
      "..../..../..../....#.../.../...#../..#.\n",
      "..../..../...0/....#.../.../...#../..#.\n",
      "..../..../..0./....#.../.../...#../..#.\n",
      "..../..../..../.0..#.../.../...#../..#.\n",
      "..../..../..../....#.../.../...#../..#.\n",
      "..../..../.0../....#.../.../...#../..#.\n"
     ]
    }
   ],
   "source": [
    "for i in range(10):\n",
    "    # very few initial moves will be valid (retractions are rarely valid in early game state)\n",
    "    # here we do random moves without retractions to decrease the amount of invalid moves and show the result after each move.\n",
    "    # A learning agent would first have to learn to use valid moves before becoming smarter\n",
    "    env.reset()\n",
    "    move = env.action_space.sample()\n",
    "    state, reward, done, info = env.step((move[0], 31, 31))\n",
    "\n",
    "    print(env.pylos.render())"
   ]
  },
  {
   "cell_type": "code",
   "execution_count": null,
   "metadata": {},
   "outputs": [],
   "source": []
  }
 ],
 "metadata": {
  "kernelspec": {
   "display_name": "Python 3",
   "language": "python",
   "name": "python3"
  },
  "language_info": {
   "codemirror_mode": {
    "name": "ipython",
    "version": 3
   },
   "file_extension": ".py",
   "mimetype": "text/x-python",
   "name": "python",
   "nbconvert_exporter": "python",
   "pygments_lexer": "ipython3",
   "version": "3.7.0"
  }
 },
 "nbformat": 4,
 "nbformat_minor": 2
}
